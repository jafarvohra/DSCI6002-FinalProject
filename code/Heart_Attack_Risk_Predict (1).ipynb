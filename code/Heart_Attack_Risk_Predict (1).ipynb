{
 "cells": [
  {
   "cell_type": "markdown",
   "metadata": {
    "id": "MT_1idfGal29"
   },
   "source": [
    "# DSCI 6002 Midterm Project Code (Team 8)\n",
    "### Moureen Nampijja, Smit Patel, Mahesh Potu, Jafar Vohra"
   ]
  },
  {
   "cell_type": "markdown",
   "metadata": {
    "id": "O8y8YgxCsWlc"
   },
   "source": [
    "We will start by importing the necessary libraries and modules to help us complete this portion of the project..."
   ]
  },
  {
   "cell_type": "code",
   "execution_count": 1,
   "metadata": {
    "id": "34YV7kX2aZt5"
   },
   "outputs": [],
   "source": [
    "import pandas as pd\n",
    "import matplotlib.pyplot as plt"
   ]
  },
  {
   "cell_type": "markdown",
   "metadata": {
    "id": "C7LbnqbYsiSQ"
   },
   "source": [
    "Since our data is uploaded to our team GitHub page, we will use pandas to read the CSV data via the URL of the raw data. The first five rows of the data are then able to be seen below..."
   ]
  },
  {
   "cell_type": "code",
   "execution_count": 2,
   "metadata": {
    "colab": {
     "base_uri": "https://localhost:8080/",
     "height": 357
    },
    "id": "_KuzWrB_bCF1",
    "outputId": "f32014e6-b47b-4397-a005-6dcccbbe7169"
   },
   "outputs": [
    {
     "data": {
      "text/html": [
       "<div>\n",
       "<style scoped>\n",
       "    .dataframe tbody tr th:only-of-type {\n",
       "        vertical-align: middle;\n",
       "    }\n",
       "\n",
       "    .dataframe tbody tr th {\n",
       "        vertical-align: top;\n",
       "    }\n",
       "\n",
       "    .dataframe thead th {\n",
       "        text-align: right;\n",
       "    }\n",
       "</style>\n",
       "<table border=\"1\" class=\"dataframe\">\n",
       "  <thead>\n",
       "    <tr style=\"text-align: right;\">\n",
       "      <th></th>\n",
       "      <th>Patient ID</th>\n",
       "      <th>Age</th>\n",
       "      <th>Sex</th>\n",
       "      <th>Cholesterol</th>\n",
       "      <th>Blood Pressure</th>\n",
       "      <th>Heart Rate</th>\n",
       "      <th>Diabetes</th>\n",
       "      <th>Family History</th>\n",
       "      <th>Smoking</th>\n",
       "      <th>Obesity</th>\n",
       "      <th>...</th>\n",
       "      <th>Sedentary Hours Per Day</th>\n",
       "      <th>Income</th>\n",
       "      <th>BMI</th>\n",
       "      <th>Triglycerides</th>\n",
       "      <th>Physical Activity Days Per Week</th>\n",
       "      <th>Sleep Hours Per Day</th>\n",
       "      <th>Country</th>\n",
       "      <th>Continent</th>\n",
       "      <th>Hemisphere</th>\n",
       "      <th>Heart Attack Risk</th>\n",
       "    </tr>\n",
       "  </thead>\n",
       "  <tbody>\n",
       "    <tr>\n",
       "      <th>0</th>\n",
       "      <td>BMW7812</td>\n",
       "      <td>67</td>\n",
       "      <td>Male</td>\n",
       "      <td>208</td>\n",
       "      <td>158/88</td>\n",
       "      <td>72</td>\n",
       "      <td>0</td>\n",
       "      <td>0</td>\n",
       "      <td>1</td>\n",
       "      <td>0</td>\n",
       "      <td>...</td>\n",
       "      <td>6.615001</td>\n",
       "      <td>261404</td>\n",
       "      <td>31.251233</td>\n",
       "      <td>286</td>\n",
       "      <td>0</td>\n",
       "      <td>6</td>\n",
       "      <td>Argentina</td>\n",
       "      <td>South America</td>\n",
       "      <td>Southern Hemisphere</td>\n",
       "      <td>0</td>\n",
       "    </tr>\n",
       "    <tr>\n",
       "      <th>1</th>\n",
       "      <td>CZE1114</td>\n",
       "      <td>21</td>\n",
       "      <td>Male</td>\n",
       "      <td>389</td>\n",
       "      <td>165/93</td>\n",
       "      <td>98</td>\n",
       "      <td>1</td>\n",
       "      <td>1</td>\n",
       "      <td>1</td>\n",
       "      <td>1</td>\n",
       "      <td>...</td>\n",
       "      <td>4.963459</td>\n",
       "      <td>285768</td>\n",
       "      <td>27.194973</td>\n",
       "      <td>235</td>\n",
       "      <td>1</td>\n",
       "      <td>7</td>\n",
       "      <td>Canada</td>\n",
       "      <td>North America</td>\n",
       "      <td>Northern Hemisphere</td>\n",
       "      <td>0</td>\n",
       "    </tr>\n",
       "    <tr>\n",
       "      <th>2</th>\n",
       "      <td>BNI9906</td>\n",
       "      <td>21</td>\n",
       "      <td>Female</td>\n",
       "      <td>324</td>\n",
       "      <td>174/99</td>\n",
       "      <td>72</td>\n",
       "      <td>1</td>\n",
       "      <td>0</td>\n",
       "      <td>0</td>\n",
       "      <td>0</td>\n",
       "      <td>...</td>\n",
       "      <td>9.463426</td>\n",
       "      <td>235282</td>\n",
       "      <td>28.176571</td>\n",
       "      <td>587</td>\n",
       "      <td>4</td>\n",
       "      <td>4</td>\n",
       "      <td>France</td>\n",
       "      <td>Europe</td>\n",
       "      <td>Northern Hemisphere</td>\n",
       "      <td>0</td>\n",
       "    </tr>\n",
       "    <tr>\n",
       "      <th>3</th>\n",
       "      <td>JLN3497</td>\n",
       "      <td>84</td>\n",
       "      <td>Male</td>\n",
       "      <td>383</td>\n",
       "      <td>163/100</td>\n",
       "      <td>73</td>\n",
       "      <td>1</td>\n",
       "      <td>1</td>\n",
       "      <td>1</td>\n",
       "      <td>0</td>\n",
       "      <td>...</td>\n",
       "      <td>7.648981</td>\n",
       "      <td>125640</td>\n",
       "      <td>36.464704</td>\n",
       "      <td>378</td>\n",
       "      <td>3</td>\n",
       "      <td>4</td>\n",
       "      <td>Canada</td>\n",
       "      <td>North America</td>\n",
       "      <td>Northern Hemisphere</td>\n",
       "      <td>0</td>\n",
       "    </tr>\n",
       "    <tr>\n",
       "      <th>4</th>\n",
       "      <td>GFO8847</td>\n",
       "      <td>66</td>\n",
       "      <td>Male</td>\n",
       "      <td>318</td>\n",
       "      <td>91/88</td>\n",
       "      <td>93</td>\n",
       "      <td>1</td>\n",
       "      <td>1</td>\n",
       "      <td>1</td>\n",
       "      <td>1</td>\n",
       "      <td>...</td>\n",
       "      <td>1.514821</td>\n",
       "      <td>160555</td>\n",
       "      <td>21.809144</td>\n",
       "      <td>231</td>\n",
       "      <td>1</td>\n",
       "      <td>5</td>\n",
       "      <td>Thailand</td>\n",
       "      <td>Asia</td>\n",
       "      <td>Northern Hemisphere</td>\n",
       "      <td>0</td>\n",
       "    </tr>\n",
       "  </tbody>\n",
       "</table>\n",
       "<p>5 rows × 26 columns</p>\n",
       "</div>"
      ],
      "text/plain": [
       "  Patient ID  Age     Sex  Cholesterol Blood Pressure  Heart Rate  Diabetes  \\\n",
       "0    BMW7812   67    Male          208         158/88          72         0   \n",
       "1    CZE1114   21    Male          389         165/93          98         1   \n",
       "2    BNI9906   21  Female          324         174/99          72         1   \n",
       "3    JLN3497   84    Male          383        163/100          73         1   \n",
       "4    GFO8847   66    Male          318          91/88          93         1   \n",
       "\n",
       "   Family History  Smoking  Obesity  ...  Sedentary Hours Per Day  Income  \\\n",
       "0               0        1        0  ...                 6.615001  261404   \n",
       "1               1        1        1  ...                 4.963459  285768   \n",
       "2               0        0        0  ...                 9.463426  235282   \n",
       "3               1        1        0  ...                 7.648981  125640   \n",
       "4               1        1        1  ...                 1.514821  160555   \n",
       "\n",
       "         BMI  Triglycerides  Physical Activity Days Per Week  \\\n",
       "0  31.251233            286                                0   \n",
       "1  27.194973            235                                1   \n",
       "2  28.176571            587                                4   \n",
       "3  36.464704            378                                3   \n",
       "4  21.809144            231                                1   \n",
       "\n",
       "   Sleep Hours Per Day    Country      Continent           Hemisphere  \\\n",
       "0                    6  Argentina  South America  Southern Hemisphere   \n",
       "1                    7     Canada  North America  Northern Hemisphere   \n",
       "2                    4     France         Europe  Northern Hemisphere   \n",
       "3                    4     Canada  North America  Northern Hemisphere   \n",
       "4                    5   Thailand           Asia  Northern Hemisphere   \n",
       "\n",
       "   Heart Attack Risk  \n",
       "0                  0  \n",
       "1                  0  \n",
       "2                  0  \n",
       "3                  0  \n",
       "4                  0  \n",
       "\n",
       "[5 rows x 26 columns]"
      ]
     },
     "execution_count": 2,
     "metadata": {},
     "output_type": "execute_result"
    }
   ],
   "source": [
    "data = pd.read_csv(\"heart_attack_prediction_dataset.csv\")\n",
    "data.head()"
   ]
  },
  {
   "cell_type": "markdown",
   "metadata": {
    "id": "j2zLz8hps-wj"
   },
   "source": [
    "Let's check out the shape of the data that we have just loaded in..."
   ]
  },
  {
   "cell_type": "code",
   "execution_count": 3,
   "metadata": {
    "colab": {
     "base_uri": "https://localhost:8080/"
    },
    "id": "QJkmV-27ree_",
    "outputId": "e1a41a49-3435-4c8f-d521-067b55e524fb"
   },
   "outputs": [
    {
     "data": {
      "text/plain": [
       "(8763, 26)"
      ]
     },
     "execution_count": 3,
     "metadata": {},
     "output_type": "execute_result"
    }
   ],
   "source": [
    "data.shape"
   ]
  },
  {
   "cell_type": "markdown",
   "metadata": {
    "id": "v8TbzYoKtsMi"
   },
   "source": [
    "From the above output, we can see that there are 8,763 rows of patient data with 26 columns (or features) of data related to each patient. Let's get an idea of what features are provided with this dataset..."
   ]
  },
  {
   "cell_type": "code",
   "execution_count": 4,
   "metadata": {
    "colab": {
     "base_uri": "https://localhost:8080/"
    },
    "id": "2_uMv5oDt9kk",
    "outputId": "d6beaa7b-c8de-4b61-d08a-851e8ec83109"
   },
   "outputs": [
    {
     "name": "stdout",
     "output_type": "stream",
     "text": [
      "<class 'pandas.core.frame.DataFrame'>\n",
      "RangeIndex: 8763 entries, 0 to 8762\n",
      "Data columns (total 26 columns):\n",
      " #   Column                           Non-Null Count  Dtype  \n",
      "---  ------                           --------------  -----  \n",
      " 0   Patient ID                       8763 non-null   object \n",
      " 1   Age                              8763 non-null   int64  \n",
      " 2   Sex                              8763 non-null   object \n",
      " 3   Cholesterol                      8763 non-null   int64  \n",
      " 4   Blood Pressure                   8763 non-null   object \n",
      " 5   Heart Rate                       8763 non-null   int64  \n",
      " 6   Diabetes                         8763 non-null   int64  \n",
      " 7   Family History                   8763 non-null   int64  \n",
      " 8   Smoking                          8763 non-null   int64  \n",
      " 9   Obesity                          8763 non-null   int64  \n",
      " 10  Alcohol Consumption              8763 non-null   int64  \n",
      " 11  Exercise Hours Per Week          8763 non-null   float64\n",
      " 12  Diet                             8763 non-null   object \n",
      " 13  Previous Heart Problems          8763 non-null   int64  \n",
      " 14  Medication Use                   8763 non-null   int64  \n",
      " 15  Stress Level                     8763 non-null   int64  \n",
      " 16  Sedentary Hours Per Day          8763 non-null   float64\n",
      " 17  Income                           8763 non-null   int64  \n",
      " 18  BMI                              8763 non-null   float64\n",
      " 19  Triglycerides                    8763 non-null   int64  \n",
      " 20  Physical Activity Days Per Week  8763 non-null   int64  \n",
      " 21  Sleep Hours Per Day              8763 non-null   int64  \n",
      " 22  Country                          8763 non-null   object \n",
      " 23  Continent                        8763 non-null   object \n",
      " 24  Hemisphere                       8763 non-null   object \n",
      " 25  Heart Attack Risk                8763 non-null   int64  \n",
      "dtypes: float64(3), int64(16), object(7)\n",
      "memory usage: 1.7+ MB\n"
     ]
    }
   ],
   "source": [
    "data.info()"
   ]
  },
  {
   "cell_type": "markdown",
   "metadata": {
    "id": "LXL6OjlP-8da"
   },
   "source": [
    "We can see a lot of information from the output of the above code. Let's break it down..."
   ]
  },
  {
   "cell_type": "markdown",
   "metadata": {
    "id": "azhpo4iB-_Bw"
   },
   "source": [
    "- Each feature shows a non-null count equivalent to the number of total entries, thus saying there are no null values in this dataset. Let's check this another way to be sure..."
   ]
  },
  {
   "cell_type": "code",
   "execution_count": 5,
   "metadata": {
    "colab": {
     "base_uri": "https://localhost:8080/"
    },
    "id": "RFjSXPJ__RpW",
    "outputId": "05a87de0-43e0-4afe-fda0-55938a434937"
   },
   "outputs": [
    {
     "data": {
      "text/plain": [
       "Patient ID                         0\n",
       "Age                                0\n",
       "Sex                                0\n",
       "Cholesterol                        0\n",
       "Blood Pressure                     0\n",
       "Heart Rate                         0\n",
       "Diabetes                           0\n",
       "Family History                     0\n",
       "Smoking                            0\n",
       "Obesity                            0\n",
       "Alcohol Consumption                0\n",
       "Exercise Hours Per Week            0\n",
       "Diet                               0\n",
       "Previous Heart Problems            0\n",
       "Medication Use                     0\n",
       "Stress Level                       0\n",
       "Sedentary Hours Per Day            0\n",
       "Income                             0\n",
       "BMI                                0\n",
       "Triglycerides                      0\n",
       "Physical Activity Days Per Week    0\n",
       "Sleep Hours Per Day                0\n",
       "Country                            0\n",
       "Continent                          0\n",
       "Hemisphere                         0\n",
       "Heart Attack Risk                  0\n",
       "dtype: int64"
      ]
     },
     "execution_count": 5,
     "metadata": {},
     "output_type": "execute_result"
    }
   ],
   "source": [
    "data.isna().sum()"
   ]
  },
  {
   "cell_type": "markdown",
   "metadata": {
    "id": "J10IdBnc_XDJ"
   },
   "source": [
    "- Let's also check to see if there are any duplicated records in this dataset..."
   ]
  },
  {
   "cell_type": "code",
   "execution_count": 6,
   "metadata": {
    "colab": {
     "base_uri": "https://localhost:8080/"
    },
    "id": "Gg301jt3_iV4",
    "outputId": "48a06fea-8a9c-40fb-ccfe-bbbe3c175124"
   },
   "outputs": [
    {
     "data": {
      "text/plain": [
       "0"
      ]
     },
     "execution_count": 6,
     "metadata": {},
     "output_type": "execute_result"
    }
   ],
   "source": [
    "data.duplicated().sum()"
   ]
  },
  {
   "cell_type": "markdown",
   "metadata": {
    "id": "G8rNCT8C_1e6"
   },
   "source": [
    "NO missing values and NO duplicated records in this dataset. This completes our initial data cleaning steps. Let's dive into each column and we will compile a list of features to clean / engineer for the further steps of this project..."
   ]
  },
  {
   "cell_type": "markdown",
   "metadata": {
    "id": "W3hvdzXcuXNC"
   },
   "source": [
    "- The first column is a unique identifier for each patient, called **Patient ID**. This data is read in from the CSV file as a string variable."
   ]
  },
  {
   "cell_type": "code",
   "execution_count": 7,
   "metadata": {
    "colab": {
     "base_uri": "https://localhost:8080/"
    },
    "id": "p7hvJwGKw4ed",
    "outputId": "11a8ba57-5fdf-42a2-8652-4691d3bfd1f7"
   },
   "outputs": [
    {
     "data": {
      "text/plain": [
       "8763"
      ]
     },
     "execution_count": 7,
     "metadata": {},
     "output_type": "execute_result"
    }
   ],
   "source": [
    "data[\"Patient ID\"].nunique()"
   ]
  },
  {
   "cell_type": "markdown",
   "metadata": {
    "id": "06YRDDCu14yx"
   },
   "source": [
    "- The last column is an indicator of **Heart Attack Risk** for each patient. This data is read in from the CSV file as an integer variable with values of 0 or 1."
   ]
  },
  {
   "cell_type": "code",
   "execution_count": 8,
   "metadata": {
    "colab": {
     "base_uri": "https://localhost:8080/"
    },
    "id": "OPHVDPTh1jKI",
    "outputId": "de7086cf-f068-4a37-a038-8bd398a9c90d"
   },
   "outputs": [
    {
     "data": {
      "text/plain": [
       "0    5624\n",
       "1    3139\n",
       "Name: Heart Attack Risk, dtype: int64"
      ]
     },
     "execution_count": 8,
     "metadata": {},
     "output_type": "execute_result"
    }
   ],
   "source": [
    "data[\"Heart Attack Risk\"].value_counts()"
   ]
  },
  {
   "cell_type": "code",
   "execution_count": 9,
   "metadata": {
    "id": "8BNxA7Rv75AZ"
   },
   "outputs": [],
   "source": [
    "### VISUALIZE THE HEART ATTACK RISK DATA HERE"
   ]
  },
  {
   "cell_type": "markdown",
   "metadata": {
    "id": "M2jcdfw09ix4"
   },
   "source": [
    "- The second column provides data for the **Age** of the patient. This is read in from the CSV file as an integer variable."
   ]
  },
  {
   "cell_type": "code",
   "execution_count": 10,
   "metadata": {
    "id": "hrKACusQ9jVp"
   },
   "outputs": [],
   "source": [
    "### VISUALIZE THE AGE DATA HERE"
   ]
  },
  {
   "cell_type": "markdown",
   "metadata": {
    "id": "vtQn83ad2A33"
   },
   "source": [
    "- The third column is an identifier for the **Sex** of the patient, either Male or Female. This is read in from the CSV file as a string variable."
   ]
  },
  {
   "cell_type": "code",
   "execution_count": 11,
   "metadata": {
    "colab": {
     "base_uri": "https://localhost:8080/"
    },
    "id": "myHicIRw1jTE",
    "outputId": "efaa2619-d60a-41b1-bfcd-cad18aef2b4f"
   },
   "outputs": [
    {
     "data": {
      "text/plain": [
       "Male      6111\n",
       "Female    2652\n",
       "Name: Sex, dtype: int64"
      ]
     },
     "execution_count": 11,
     "metadata": {},
     "output_type": "execute_result"
    }
   ],
   "source": [
    "data[\"Sex\"].value_counts()"
   ]
  },
  {
   "cell_type": "code",
   "execution_count": 12,
   "metadata": {
    "id": "0WXUL-cC796j"
   },
   "outputs": [],
   "source": [
    "### VISUALIZE THE SEX DATA HERE"
   ]
  },
  {
   "cell_type": "markdown",
   "metadata": {
    "id": "Dn76Zz4G-H35"
   },
   "source": [
    "- The fourth column provides data for the **Cholesterol**, measured in milligrams per deciliter (mg/dL). This is read in from the CSV file as an integer variable."
   ]
  },
  {
   "cell_type": "code",
   "execution_count": 13,
   "metadata": {
    "id": "iBdyDxiF-IAh"
   },
   "outputs": [],
   "source": [
    "### VISUALIZE THE CHOLESTEROL DATA HERE"
   ]
  },
  {
   "cell_type": "markdown",
   "metadata": {
    "id": "sfq9IINo2Bm2"
   },
   "source": [
    "- The fifth column is a feature that provides the **Blood Pressure** of the patient, including the systolic and diastolic numbers. This is read in from the CSV file as a string variable, with the two number seperated by a \"/\".\n",
    "- We will look to feature engineer this column in order to seperate the **Systolic Blood Pressure** and **Diastolic Blood Pressure** for use later in the project"
   ]
  },
  {
   "cell_type": "code",
   "execution_count": 14,
   "metadata": {
    "colab": {
     "base_uri": "https://localhost:8080/"
    },
    "id": "sI0YqhTy1jVq",
    "outputId": "705027b2-39d9-44c0-aaf8-31ef31ff14bc"
   },
   "outputs": [
    {
     "data": {
      "text/plain": [
       "7373    141/109\n",
       "Name: Blood Pressure, dtype: object"
      ]
     },
     "execution_count": 14,
     "metadata": {},
     "output_type": "execute_result"
    }
   ],
   "source": [
    "data[\"Blood Pressure\"].sample()"
   ]
  },
  {
   "cell_type": "code",
   "execution_count": 15,
   "metadata": {
    "colab": {
     "base_uri": "https://localhost:8080/",
     "height": 206
    },
    "id": "Ze8OSAr0IdUR",
    "outputId": "0d69a86a-457f-4b09-e5b2-24b5cec4b70f"
   },
   "outputs": [
    {
     "data": {
      "text/html": [
       "<div>\n",
       "<style scoped>\n",
       "    .dataframe tbody tr th:only-of-type {\n",
       "        vertical-align: middle;\n",
       "    }\n",
       "\n",
       "    .dataframe tbody tr th {\n",
       "        vertical-align: top;\n",
       "    }\n",
       "\n",
       "    .dataframe thead th {\n",
       "        text-align: right;\n",
       "    }\n",
       "</style>\n",
       "<table border=\"1\" class=\"dataframe\">\n",
       "  <thead>\n",
       "    <tr style=\"text-align: right;\">\n",
       "      <th></th>\n",
       "      <th>Blood Pressure</th>\n",
       "      <th>Systolic Blood Pressure</th>\n",
       "      <th>Diastolic Blood Pressure</th>\n",
       "    </tr>\n",
       "  </thead>\n",
       "  <tbody>\n",
       "    <tr>\n",
       "      <th>0</th>\n",
       "      <td>158/88</td>\n",
       "      <td>158</td>\n",
       "      <td>88</td>\n",
       "    </tr>\n",
       "    <tr>\n",
       "      <th>1</th>\n",
       "      <td>165/93</td>\n",
       "      <td>165</td>\n",
       "      <td>93</td>\n",
       "    </tr>\n",
       "    <tr>\n",
       "      <th>2</th>\n",
       "      <td>174/99</td>\n",
       "      <td>174</td>\n",
       "      <td>99</td>\n",
       "    </tr>\n",
       "    <tr>\n",
       "      <th>3</th>\n",
       "      <td>163/100</td>\n",
       "      <td>163</td>\n",
       "      <td>100</td>\n",
       "    </tr>\n",
       "    <tr>\n",
       "      <th>4</th>\n",
       "      <td>91/88</td>\n",
       "      <td>91</td>\n",
       "      <td>88</td>\n",
       "    </tr>\n",
       "  </tbody>\n",
       "</table>\n",
       "</div>"
      ],
      "text/plain": [
       "  Blood Pressure Systolic Blood Pressure Diastolic Blood Pressure\n",
       "0         158/88                     158                       88\n",
       "1         165/93                     165                       93\n",
       "2         174/99                     174                       99\n",
       "3        163/100                     163                      100\n",
       "4          91/88                      91                       88"
      ]
     },
     "execution_count": 15,
     "metadata": {},
     "output_type": "execute_result"
    }
   ],
   "source": [
    "data[[\"Systolic Blood Pressure\",\"Diastolic Blood Pressure\"]] = data[\"Blood Pressure\"].str.split(\"/\", expand=True)\n",
    "data[[\"Blood Pressure\",\"Systolic Blood Pressure\",\"Diastolic Blood Pressure\"]].head()"
   ]
  },
  {
   "cell_type": "code",
   "execution_count": 16,
   "metadata": {
    "id": "ThxtvE6_Khrp"
   },
   "outputs": [],
   "source": [
    "### VISUALIZE SYSTOLIC AND DIASTOLIC BLOOD PRESSURE"
   ]
  },
  {
   "cell_type": "markdown",
   "metadata": {
    "id": "okYFR-WtMvH2"
   },
   "source": [
    "- The sixth column..."
   ]
  },
  {
   "cell_type": "code",
   "execution_count": 17,
   "metadata": {
    "id": "GMRlJFkcMqjw"
   },
   "outputs": [
    {
     "name": "stdout",
     "output_type": "stream",
     "text": [
      "Average value:  75.02168207234965\n",
      "Max value:  110\n",
      "Min value:  40\n"
     ]
    }
   ],
   "source": [
    "max_value = data['Heart Rate'].max()\n",
    "min_value = data['Heart Rate'].min()\n",
    "average_value = data['Heart Rate'].mean()\n",
    "\n",
    "print(\"Average value: \", average_value)\n",
    "print(\"Max value: \", max_value)\n",
    "print(\"Min value: \", min_value)"
   ]
  },
  {
   "cell_type": "code",
   "execution_count": 18,
   "metadata": {},
   "outputs": [
    {
     "name": "stdout",
     "output_type": "stream",
     "text": [
      "      Heart Rate  Heart Attack Risk\n",
      "802           40                  0\n",
      "4007          40                  0\n",
      "1277          40                  1\n",
      "3639          40                  1\n",
      "7110          40                  0\n",
      "...          ...                ...\n",
      "107          110                  0\n",
      "4856         110                  0\n",
      "974          110                  1\n",
      "8690         110                  0\n",
      "2185         110                  0\n",
      "\n",
      "[8763 rows x 2 columns]\n"
     ]
    }
   ],
   "source": [
    "df_sorted=data.sort_values(by='Heart Rate')\n",
    "print(df_sorted[['Heart Rate', 'Heart Attack Risk']])"
   ]
  },
  {
   "cell_type": "markdown",
   "metadata": {
    "id": "dwv-xpD1NcWl"
   },
   "source": [
    "- The seventh column..."
   ]
  },
  {
   "cell_type": "code",
   "execution_count": 19,
   "metadata": {
    "id": "fh6fsQHtNcoP"
   },
   "outputs": [
    {
     "data": {
      "text/plain": [
       "1    5716\n",
       "0    3047\n",
       "Name: Diabetes, dtype: int64"
      ]
     },
     "execution_count": 19,
     "metadata": {},
     "output_type": "execute_result"
    }
   ],
   "source": [
    "data[\"Diabetes\"].value_counts()"
   ]
  },
  {
   "cell_type": "markdown",
   "metadata": {
    "id": "_9B1Izr1Nc45"
   },
   "source": [
    "- The eight column..."
   ]
  },
  {
   "cell_type": "code",
   "execution_count": 20,
   "metadata": {
    "id": "Vh0yXj4VNdCa"
   },
   "outputs": [
    {
     "data": {
      "text/plain": [
       "0    4443\n",
       "1    4320\n",
       "Name: Family History, dtype: int64"
      ]
     },
     "execution_count": 20,
     "metadata": {},
     "output_type": "execute_result"
    }
   ],
   "source": [
    "data[\"Family History\"].value_counts()"
   ]
  },
  {
   "cell_type": "markdown",
   "metadata": {
    "id": "eN-5RYKsNdKi"
   },
   "source": [
    "- The ninth column..."
   ]
  },
  {
   "cell_type": "code",
   "execution_count": 21,
   "metadata": {
    "id": "b219m9u_NdS-"
   },
   "outputs": [
    {
     "data": {
      "text/plain": [
       "1    7859\n",
       "0     904\n",
       "Name: Smoking, dtype: int64"
      ]
     },
     "execution_count": 21,
     "metadata": {},
     "output_type": "execute_result"
    }
   ],
   "source": [
    "data[\"Smoking\"].value_counts()"
   ]
  },
  {
   "cell_type": "markdown",
   "metadata": {
    "id": "IOGAKsq6NdaR"
   },
   "source": [
    "- The tenth column..."
   ]
  },
  {
   "cell_type": "code",
   "execution_count": 22,
   "metadata": {
    "id": "8u4UU7XpNdic"
   },
   "outputs": [
    {
     "data": {
      "text/plain": [
       "1    4394\n",
       "0    4369\n",
       "Name: Obesity, dtype: int64"
      ]
     },
     "execution_count": 22,
     "metadata": {},
     "output_type": "execute_result"
    }
   ],
   "source": [
    "data[\"Obesity\"].value_counts()"
   ]
  },
  {
   "cell_type": "markdown",
   "metadata": {
    "id": "biS0vFuUNdqE"
   },
   "source": [
    "- The eleventh column..."
   ]
  },
  {
   "cell_type": "code",
   "execution_count": 23,
   "metadata": {
    "id": "LGb9Kz79Ndxv"
   },
   "outputs": [
    {
     "data": {
      "text/plain": [
       "1    5241\n",
       "0    3522\n",
       "Name: Alcohol Consumption, dtype: int64"
      ]
     },
     "execution_count": 23,
     "metadata": {},
     "output_type": "execute_result"
    }
   ],
   "source": [
    "data[\"Alcohol Consumption\"].value_counts()"
   ]
  },
  {
   "cell_type": "markdown",
   "metadata": {
    "id": "qtZo9RSbNd4-"
   },
   "source": [
    "- The twelfth column..."
   ]
  },
  {
   "cell_type": "code",
   "execution_count": 24,
   "metadata": {
    "id": "HvnptcH6NeC1"
   },
   "outputs": [
    {
     "name": "stdout",
     "output_type": "stream",
     "text": [
      "Average value:  10.01428365521483\n",
      "Max value:  19.998709051535457\n",
      "Min value:  0.0024423483189783\n"
     ]
    }
   ],
   "source": [
    "max_value = data['Exercise Hours Per Week'].max()\n",
    "min_value = data['Exercise Hours Per Week'].min()\n",
    "average_value = data['Exercise Hours Per Week'].mean()\n",
    "\n",
    "print(\"Average value: \", average_value)\n",
    "print(\"Max value: \", max_value)\n",
    "print(\"Min value: \", min_value)"
   ]
  },
  {
   "cell_type": "markdown",
   "metadata": {
    "id": "lE1LPFuq2CT9"
   },
   "source": [
    "- The thirteenth column provides the type of **Diet** the patient has, including Healthy, Unhealthy, and Average classifications. This is read in from the CSV file as a string variable."
   ]
  },
  {
   "cell_type": "code",
   "execution_count": 25,
   "metadata": {
    "colab": {
     "base_uri": "https://localhost:8080/"
    },
    "id": "I17m0auQ1jYD",
    "outputId": "fde54663-b64d-4ccd-f84e-14fe398bd52a"
   },
   "outputs": [
    {
     "data": {
      "text/plain": [
       "Healthy      2960\n",
       "Average      2912\n",
       "Unhealthy    2891\n",
       "Name: Diet, dtype: int64"
      ]
     },
     "execution_count": 25,
     "metadata": {},
     "output_type": "execute_result"
    }
   ],
   "source": [
    "data[\"Diet\"].value_counts()"
   ]
  },
  {
   "cell_type": "code",
   "execution_count": 26,
   "metadata": {
    "id": "ZSevAZme8GiW"
   },
   "outputs": [],
   "source": [
    "### VISUALIZE THE DIET DATA HERE"
   ]
  },
  {
   "cell_type": "markdown",
   "metadata": {
    "id": "nP8dYUVsPidq"
   },
   "source": [
    "- The fourteenth column..."
   ]
  },
  {
   "cell_type": "code",
   "execution_count": 27,
   "metadata": {},
   "outputs": [
    {
     "data": {
      "text/plain": [
       "0    4418\n",
       "1    4345\n",
       "Name: Previous Heart Problems, dtype: int64"
      ]
     },
     "execution_count": 27,
     "metadata": {},
     "output_type": "execute_result"
    }
   ],
   "source": [
    "data[\"Previous Heart Problems\"].value_counts()"
   ]
  },
  {
   "cell_type": "markdown",
   "metadata": {
    "id": "iXeFsPgHPjDX"
   },
   "source": [
    "- The fifteenth column..."
   ]
  },
  {
   "cell_type": "code",
   "execution_count": 28,
   "metadata": {
    "id": "C8B81rSzPjKi"
   },
   "outputs": [
    {
     "data": {
      "text/plain": [
       "0    4396\n",
       "1    4367\n",
       "Name: Medication Use, dtype: int64"
      ]
     },
     "execution_count": 28,
     "metadata": {},
     "output_type": "execute_result"
    }
   ],
   "source": [
    "data[\"Medication Use\"].value_counts()\n"
   ]
  },
  {
   "cell_type": "markdown",
   "metadata": {
    "id": "Z6InLbpjPjmn"
   },
   "source": [
    "- The sixteenth column..."
   ]
  },
  {
   "cell_type": "code",
   "execution_count": 29,
   "metadata": {
    "id": "MkxHG_98PjuI"
   },
   "outputs": [
    {
     "name": "stdout",
     "output_type": "stream",
     "text": [
      "Average value:  5.469702156795618\n",
      "Max value:  10\n",
      "Min value:  1\n"
     ]
    }
   ],
   "source": [
    "max_value = data['Stress Level'].max()\n",
    "min_value = data['Stress Level'].min()\n",
    "average_value = data['Stress Level'].mean()\n",
    "\n",
    "print(\"Average value: \", average_value)\n",
    "print(\"Max value: \", max_value)\n",
    "print(\"Min value: \", min_value)"
   ]
  },
  {
   "cell_type": "markdown",
   "metadata": {
    "id": "ywkw0bdqPj2p"
   },
   "source": [
    "- The seventeenth column..."
   ]
  },
  {
   "cell_type": "code",
   "execution_count": 30,
   "metadata": {
    "id": "9yNKBn1SPj9S"
   },
   "outputs": [
    {
     "name": "stdout",
     "output_type": "stream",
     "text": [
      "Average value:  5.993690145051085\n",
      "Max value:  11.999313410370352\n",
      "Min value:  0.0012632057782457\n"
     ]
    }
   ],
   "source": [
    "max_value = data['Sedentary Hours Per Day'].max()\n",
    "min_value = data['Sedentary Hours Per Day'].min()\n",
    "average_value = data['Sedentary Hours Per Day'].mean()\n",
    "\n",
    "print(\"Average value: \", average_value)\n",
    "print(\"Max value: \", max_value)\n",
    "print(\"Min value: \", min_value)\n"
   ]
  },
  {
   "cell_type": "code",
   "execution_count": 31,
   "metadata": {},
   "outputs": [
    {
     "name": "stdout",
     "output_type": "stream",
     "text": [
      "      Sedentary Hours Per Day  Heart Attack Risk\n",
      "3314                 0.001263                  0\n",
      "865                  0.001529                  1\n",
      "2356                 0.003625                  0\n",
      "970                  0.008307                  0\n",
      "1915                 0.010631                  0\n",
      "...                       ...                ...\n",
      "4885                11.985484                  1\n",
      "5032                11.987716                  0\n",
      "7101                11.989217                  1\n",
      "844                 11.992341                  0\n",
      "1308                11.999313                  1\n",
      "\n",
      "[8763 rows x 2 columns]\n"
     ]
    }
   ],
   "source": [
    "df_sorted=data.sort_values(by='Sedentary Hours Per Day')\n",
    "print(df_sorted[['Sedentary Hours Per Day', 'Heart Attack Risk']])"
   ]
  },
  {
   "cell_type": "markdown",
   "metadata": {
    "id": "VaxQoQDrPkEj"
   },
   "source": [
    "- The eighteenth column..."
   ]
  },
  {
   "cell_type": "code",
   "execution_count": 32,
   "metadata": {
    "id": "jamHG5noPkKj"
   },
   "outputs": [
    {
     "name": "stdout",
     "output_type": "stream",
     "text": [
      "Average value:  158263.18190117538\n",
      "Max value:  299954\n",
      "Min value:  20062\n"
     ]
    }
   ],
   "source": [
    "max_value = data['Income'].max()\n",
    "min_value = data['Income'].min()\n",
    "average_value = data['Income'].mean()\n",
    "\n",
    "print(\"Average value: \", average_value)\n",
    "print(\"Max value: \", max_value)\n",
    "print(\"Min value: \", min_value)"
   ]
  },
  {
   "cell_type": "markdown",
   "metadata": {
    "id": "PfA7StOMPkRT"
   },
   "source": [
    "- The nineteenth column..."
   ]
  },
  {
   "cell_type": "code",
   "execution_count": 33,
   "metadata": {
    "id": "iwMleIgGPkWw"
   },
   "outputs": [
    {
     "name": "stdout",
     "output_type": "stream",
     "text": [
      "Average value:  28.891445877259635\n",
      "Max value:  39.99721081557256\n",
      "Min value:  18.002336577801902\n"
     ]
    }
   ],
   "source": [
    "max_value = data['BMI'].max()\n",
    "min_value = data['BMI'].min()\n",
    "average_value = data['BMI'].mean()\n",
    "\n",
    "print(\"Average value: \", average_value)\n",
    "print(\"Max value: \", max_value)\n",
    "print(\"Min value: \", min_value)"
   ]
  },
  {
   "cell_type": "markdown",
   "metadata": {
    "id": "MbonSZoFPkdR"
   },
   "source": [
    "- The twentieth column..."
   ]
  },
  {
   "cell_type": "code",
   "execution_count": 34,
   "metadata": {
    "id": "Ps-gh4QPPkiV"
   },
   "outputs": [
    {
     "name": "stdout",
     "output_type": "stream",
     "text": [
      "Average value:  417.67705123816046\n",
      "Max value:  800\n",
      "Min value:  30\n"
     ]
    }
   ],
   "source": [
    "max_value = data['Triglycerides'].max()\n",
    "min_value = data['Triglycerides'].min()\n",
    "average_value = data['Triglycerides'].mean()\n",
    "\n",
    "print(\"Average value: \", average_value)\n",
    "print(\"Max value: \", max_value)\n",
    "print(\"Min value: \", min_value)"
   ]
  },
  {
   "cell_type": "markdown",
   "metadata": {
    "id": "VQb5LwOJPkoT"
   },
   "source": [
    "- The twenty-first column..."
   ]
  },
  {
   "cell_type": "code",
   "execution_count": 35,
   "metadata": {
    "id": "O0MTpip_Pkui"
   },
   "outputs": [
    {
     "name": "stdout",
     "output_type": "stream",
     "text": [
      "Average value:  3.48967248659135\n",
      "Max value:  7\n",
      "Min value:  0\n"
     ]
    }
   ],
   "source": [
    "max_value = data['Physical Activity Days Per Week'].max()\n",
    "min_value = data['Physical Activity Days Per Week'].min()\n",
    "average_value = data['Physical Activity Days Per Week'].mean()\n",
    "\n",
    "print(\"Average value: \", average_value)\n",
    "print(\"Max value: \", max_value)\n",
    "print(\"Min value: \", min_value)\n"
   ]
  },
  {
   "cell_type": "markdown",
   "metadata": {
    "id": "5CEKaso4Pk06"
   },
   "source": [
    "- The twenty-second column..."
   ]
  },
  {
   "cell_type": "code",
   "execution_count": 36,
   "metadata": {
    "id": "FkGZsBBEPk69"
   },
   "outputs": [
    {
     "name": "stdout",
     "output_type": "stream",
     "text": [
      "Average value:  7.0235079310738335\n",
      "Max value:  10\n",
      "Min value:  4\n"
     ]
    }
   ],
   "source": [
    "max_value = data['Sleep Hours Per Day'].max()\n",
    "min_value = data['Sleep Hours Per Day'].min()\n",
    "average_value = data['Sleep Hours Per Day'].mean()\n",
    "\n",
    "print(\"Average value: \", average_value)\n",
    "print(\"Max value: \", max_value)\n",
    "print(\"Min value: \", min_value)"
   ]
  },
  {
   "cell_type": "markdown",
   "metadata": {
    "id": "cJ_MnqL92Cvc"
   },
   "source": [
    "- The **Country**, **Continent**, and **Hemisphere** columns provide geographical data of the patients in the form of strings."
   ]
  },
  {
   "cell_type": "code",
   "execution_count": 37,
   "metadata": {
    "colab": {
     "base_uri": "https://localhost:8080/"
    },
    "id": "6hJYk-fg1jaG",
    "outputId": "bf206c6f-7778-4b86-d76e-25526d71f1da"
   },
   "outputs": [
    {
     "data": {
      "text/plain": [
       "Germany           477\n",
       "Argentina         471\n",
       "Brazil            462\n",
       "United Kingdom    457\n",
       "Australia         449\n",
       "Nigeria           448\n",
       "France            446\n",
       "Canada            440\n",
       "China             436\n",
       "New Zealand       435\n",
       "Japan             433\n",
       "Italy             431\n",
       "Spain             430\n",
       "Colombia          429\n",
       "Thailand          428\n",
       "South Africa      425\n",
       "Vietnam           425\n",
       "United States     420\n",
       "India             412\n",
       "South Korea       409\n",
       "Name: Country, dtype: int64"
      ]
     },
     "execution_count": 37,
     "metadata": {},
     "output_type": "execute_result"
    }
   ],
   "source": [
    "data[\"Country\"].value_counts()"
   ]
  },
  {
   "cell_type": "code",
   "execution_count": 38,
   "metadata": {
    "id": "WQl5199K8Lcg"
   },
   "outputs": [],
   "source": [
    "### VISUALIZE THE COUNTRY DATA HERE"
   ]
  },
  {
   "cell_type": "code",
   "execution_count": 39,
   "metadata": {
    "colab": {
     "base_uri": "https://localhost:8080/"
    },
    "id": "iKNh31hF1jce",
    "outputId": "af29bfc9-e2ea-4bf5-90d9-297b627c4212"
   },
   "outputs": [
    {
     "data": {
      "text/plain": [
       "Asia             2543\n",
       "Europe           2241\n",
       "South America    1362\n",
       "Australia         884\n",
       "Africa            873\n",
       "North America     860\n",
       "Name: Continent, dtype: int64"
      ]
     },
     "execution_count": 39,
     "metadata": {},
     "output_type": "execute_result"
    }
   ],
   "source": [
    "data[\"Continent\"].value_counts()"
   ]
  },
  {
   "cell_type": "code",
   "execution_count": 40,
   "metadata": {
    "id": "AGpuNT5Z8PWe"
   },
   "outputs": [],
   "source": [
    "### VISUALIZE THE CONTINENT DATA HERE"
   ]
  },
  {
   "cell_type": "code",
   "execution_count": 41,
   "metadata": {
    "colab": {
     "base_uri": "https://localhost:8080/"
    },
    "id": "7Bm_vbb21je0",
    "outputId": "b9ee5eb2-2c0f-4110-ee7c-7d81e66387da"
   },
   "outputs": [
    {
     "data": {
      "text/plain": [
       "Northern Hemisphere    5660\n",
       "Southern Hemisphere    3103\n",
       "Name: Hemisphere, dtype: int64"
      ]
     },
     "execution_count": 41,
     "metadata": {},
     "output_type": "execute_result"
    }
   ],
   "source": [
    "data[\"Hemisphere\"].value_counts()"
   ]
  },
  {
   "cell_type": "code",
   "execution_count": 42,
   "metadata": {
    "id": "FW-2w42W8UaN"
   },
   "outputs": [],
   "source": [
    "### VISUALIZE THE HEMISPHERE DATA HERE"
   ]
  }
 ],
 "metadata": {
  "colab": {
   "provenance": []
  },
  "kernelspec": {
   "display_name": "Python 3 (ipykernel)",
   "language": "python",
   "name": "python3"
  },
  "language_info": {
   "codemirror_mode": {
    "name": "ipython",
    "version": 3
   },
   "file_extension": ".py",
   "mimetype": "text/x-python",
   "name": "python",
   "nbconvert_exporter": "python",
   "pygments_lexer": "ipython3",
   "version": "3.11.4"
  },
  "varInspector": {
   "cols": {
    "lenName": 16,
    "lenType": 16,
    "lenVar": 40
   },
   "kernels_config": {
    "python": {
     "delete_cmd_postfix": "",
     "delete_cmd_prefix": "del ",
     "library": "var_list.py",
     "varRefreshCmd": "print(var_dic_list())"
    },
    "r": {
     "delete_cmd_postfix": ") ",
     "delete_cmd_prefix": "rm(",
     "library": "var_list.r",
     "varRefreshCmd": "cat(var_dic_list()) "
    }
   },
   "types_to_exclude": [
    "module",
    "function",
    "builtin_function_or_method",
    "instance",
    "_Feature"
   ],
   "window_display": false
  }
 },
 "nbformat": 4,
 "nbformat_minor": 1
}
